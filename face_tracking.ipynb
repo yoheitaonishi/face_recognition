{
 "cells": [
  {
   "cell_type": "markdown",
   "metadata": {},
   "source": [
    "# Face Recognition\n",
    "\n",
    "I will try to code this site face recognition.  \n",
    "http://www.mathgram.xyz/entry/chainer/bake/part0"
   ]
  },
  {
   "cell_type": "markdown",
   "metadata": {},
   "source": [
    "## Download video from youtube\n",
    "Download video form youtube by using pytube at python console.  \n",
    "It's very easy way."
   ]
  },
  {
   "cell_type": "code",
   "execution_count": 1,
   "metadata": {
    "collapsed": true
   },
   "outputs": [],
   "source": [
    ">>> from pytube import YouTube\n",
    ">>> YouTube('https://www.youtube.com/watch?v=BbfWKXILbHs').streams.first().download()"
   ]
  },
  {
   "cell_type": "markdown",
   "metadata": {},
   "source": [
    "## Get images for creating model"
   ]
  },
  {
   "cell_type": "code",
   "execution_count": 12,
   "metadata": {
    "collapsed": true
   },
   "outputs": [],
   "source": [
    "# -*- coding: utf-8 -*-\n",
    "import os\n",
    "import cv2\n",
    "import numpy as np\n",
    "from PIL import Image\n",
    "import matplotlib.pyplot as plt\n",
    "%matplotlib inline\n",
    "\n",
    "cascade_path = '/Users/yoheitaonishi/.pyenv/versions/anaconda3-5.0.0/share/OpenCV/lbpcascades/lbpcascade_animeface.xml'"
   ]
  },
  {
   "cell_type": "code",
   "execution_count": 29,
   "metadata": {
    "collapsed": true
   },
   "outputs": [],
   "source": [
    "import chainer\n",
    "from chainer import optimizers\n",
    "import chainer.functions as F\n",
    "import chainer.links as L\n",
    "import chainer.serializers as S"
   ]
  },
  {
   "cell_type": "code",
   "execution_count": 33,
   "metadata": {
    "collapsed": true
   },
   "outputs": [],
   "source": [
    "class clf_bake(chainer.Chain):\n",
    "    def __init__(self):\n",
    "        super(clf, self).__init__(\n",
    "            conv1 = F.Convolution2D(3, 16, 5, pad=2),\n",
    "            conv2 = F.Convolution2D(16, 32, 5, pad=2),\n",
    "            l3    = F.Linear(6272, 256),\n",
    "            l4    = F.Linear(256, 2)\n",
    "        )\n",
    "        \n",
    "    def clear(self):\n",
    "        self.loss = None\n",
    "        self.accuracy = None\n",
    "        \n",
    "    def forward(self, X_data, y_data, train=True):\n",
    "        self.clear()\n",
    "        X_data = chainer.Variable(np.array(X_data), volatile=not train)\n",
    "        y_data = chainer.Variable(np.array(y_data), volatile=not train)\n",
    "        h = F.max_pooling_2d(F.relu(self.conv1(X_data)), ksize = 5, stride = 2, pad = 2)\n",
    "        h = F.max_pooling_2d(F.relu(self.conv2(h)), ksize = 5, stride = 2, pad = 2)\n",
    "        h = F.dropout(F.relu(self.l3(h)), train = train)\n",
    "        y = self.l4(h)\n",
    "        return F.softmax_cross_entropy(y, y_data), F.accuracy(y, y_data)"
   ]
  },
  {
   "cell_type": "code",
   "execution_count": 36,
   "metadata": {
    "collapsed": true
   },
   "outputs": [],
   "source": [
    "import cv2\n",
    "import six\n",
    "import datetime"
   ]
  },
  {
   "cell_type": "markdown",
   "metadata": {},
   "source": [
    "## TO DO\n",
    "* Getting images from online videos. Perphaps I should use ffpmeg etc...\n",
    "* Classify images"
   ]
  }
 ],
 "metadata": {
  "kernelspec": {
   "display_name": "Python 3",
   "language": "python",
   "name": "python3"
  },
  "language_info": {
   "codemirror_mode": {
    "name": "ipython",
    "version": 3
   },
   "file_extension": ".py",
   "mimetype": "text/x-python",
   "name": "python",
   "nbconvert_exporter": "python",
   "pygments_lexer": "ipython3",
   "version": "3.6.5"
  }
 },
 "nbformat": 4,
 "nbformat_minor": 2
}
